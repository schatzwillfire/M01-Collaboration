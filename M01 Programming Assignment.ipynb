{
 "cells": [
  {
   "cell_type": "code",
   "execution_count": 14,
   "id": "258e1ee6",
   "metadata": {},
   "outputs": [
    {
     "name": "stdout",
     "output_type": "stream",
     "text": [
      "seconds per hour = \n",
      "3600\n",
      "seconds per day = \n",
      "86400\n"
     ]
    },
    {
     "data": {
      "text/plain": [
       "24"
      ]
     },
     "execution_count": 14,
     "metadata": {},
     "output_type": "execute_result"
    }
   ],
   "source": [
    "#justin schatz\n",
    "#M01 things to do\n",
    "#1/22/2023\n",
    "seconds_per_minute = 60\n",
    "minutes_per_hour = 60\n",
    "hours_per_day = 24\n",
    "#declaration of variables used\n",
    "seconds_per_hour = seconds_per_minute * minutes_per_hour\n",
    "print (\"seconds per hour = \")\n",
    "print(seconds_per_hour)\n",
    "#calculate the seconds per hour \n",
    "seconds_per_day = seconds_per_hour * hours_per_day\n",
    "print (\"seconds per day = \")\n",
    "print (seconds_per_day)\n",
    "#calculate seconds per day \n",
    "seconds_per_day / seconds_per_hour\n",
    "\n",
    "seconds_per_day // seconds_per_hour"
   ]
  },
  {
   "cell_type": "code",
   "execution_count": null,
   "id": "97a6b2a3",
   "metadata": {},
   "outputs": [],
   "source": []
  }
 ],
 "metadata": {
  "kernelspec": {
   "display_name": "Python 3 (ipykernel)",
   "language": "python",
   "name": "python3"
  },
  "language_info": {
   "codemirror_mode": {
    "name": "ipython",
    "version": 3
   },
   "file_extension": ".py",
   "mimetype": "text/x-python",
   "name": "python",
   "nbconvert_exporter": "python",
   "pygments_lexer": "ipython3",
   "version": "3.9.13"
  }
 },
 "nbformat": 4,
 "nbformat_minor": 5
}
